{
  "nbformat": 4,
  "nbformat_minor": 0,
  "metadata": {
    "colab": {
      "provenance": [],
      "authorship_tag": "ABX9TyOIaAJvEZG961I/rc/7p/Ep",
      "include_colab_link": true
    },
    "kernelspec": {
      "name": "python3",
      "display_name": "Python 3"
    },
    "language_info": {
      "name": "python"
    }
  },
  "cells": [
    {
      "cell_type": "markdown",
      "metadata": {
        "id": "view-in-github",
        "colab_type": "text"
      },
      "source": [
        "<a href=\"https://colab.research.google.com/github/singhamritanshu/machine_learning_algorithms_cse574/blob/main/using_autoencoder_to__reconstruct_MNIST.ipynb\" target=\"_parent\"><img src=\"https://colab.research.google.com/assets/colab-badge.svg\" alt=\"Open In Colab\"/></a>"
      ]
    },
    {
      "cell_type": "code",
      "execution_count": 8,
      "metadata": {
        "id": "F8pQmFDDg30O"
      },
      "outputs": [],
      "source": [
        "import warnings \n",
        "warnings.filterwarnings('ignore')\n",
        "import numpy as np \n",
        "import tensorflow as tf\n",
        "from tensorflow.keras.models import Model \n",
        "from tensorflow.keras.layers import Input, Dense \n",
        "#tf.logging.set_verbosity(tf.logging.ERROR)\n",
        "#plotting\n",
        "import matplotlib.pyplot as plt \n",
        "%matplotlib inline\n",
        "#dataset\n",
        "from tensorflow.keras.datasets import mnist"
      ]
    },
    {
      "cell_type": "code",
      "source": [
        "(x_train, _), (x_test, _) = mnist.load_data()\n",
        "x_train = x_train.astype('float32') / 255\n",
        "x_test = x_test.astype('float32') / 255"
      ],
      "metadata": {
        "colab": {
          "base_uri": "https://localhost:8080/"
        },
        "id": "jr1VDFHBg6MQ",
        "outputId": "f8e544d5-0048-4c18-d290-25abcb85b094"
      },
      "execution_count": 9,
      "outputs": [
        {
          "output_type": "stream",
          "name": "stdout",
          "text": [
            "Downloading data from https://storage.googleapis.com/tensorflow/tf-keras-datasets/mnist.npz\n",
            "11490434/11490434 [==============================] - 0s 0us/step\n"
          ]
        }
      ]
    },
    {
      "cell_type": "code",
      "source": [
        "print(x_train.shape, x_test.shape)"
      ],
      "metadata": {
        "colab": {
          "base_uri": "https://localhost:8080/"
        },
        "id": "QyMLwApoiBaY",
        "outputId": "3e8d9493-b3f9-4532-b72d-2ffe9300af99"
      },
      "execution_count": 10,
      "outputs": [
        {
          "output_type": "stream",
          "name": "stdout",
          "text": [
            "(60000, 28, 28) (10000, 28, 28)\n"
          ]
        }
      ]
    },
    {
      "cell_type": "code",
      "source": [
        "x_train = x_train.reshape((len(x_train), np.prod(x_train.shape[1:]))) \n",
        "x_test = x_test.reshape((len(x_test), np.prod(x_test.shape[1:])))"
      ],
      "metadata": {
        "id": "a5LtVQ09iEHX"
      },
      "execution_count": 11,
      "outputs": []
    },
    {
      "cell_type": "code",
      "source": [
        "print(x_train.shape, x_test.shape)"
      ],
      "metadata": {
        "colab": {
          "base_uri": "https://localhost:8080/"
        },
        "id": "aXHtXObqiIf1",
        "outputId": "1e1ab826-d6c3-4185-f991-98cc960d7348"
      },
      "execution_count": 12,
      "outputs": [
        {
          "output_type": "stream",
          "name": "stdout",
          "text": [
            "(60000, 784) (10000, 784)\n"
          ]
        }
      ]
    },
    {
      "cell_type": "code",
      "source": [
        "encoding_dim = 32\n",
        "input_image = Input(shape=(784,))\n",
        "encoder = Dense(encoding_dim, activation='relu')(input_image)"
      ],
      "metadata": {
        "id": "a_2U8RWAiL_T"
      },
      "execution_count": 13,
      "outputs": []
    },
    {
      "cell_type": "code",
      "source": [
        "decoder = Dense(784, activation='sigmoid')(encoder)"
      ],
      "metadata": {
        "id": "zObp_53fiS8t"
      },
      "execution_count": 14,
      "outputs": []
    },
    {
      "cell_type": "code",
      "source": [
        "model = Model(inputs=input_image, outputs=decoder)\n",
        "model.summary()"
      ],
      "metadata": {
        "colab": {
          "base_uri": "https://localhost:8080/"
        },
        "id": "RvFhwWk0iWIw",
        "outputId": "6a9cbbb7-fed0-4511-eb78-84e27a661894"
      },
      "execution_count": 16,
      "outputs": [
        {
          "output_type": "stream",
          "name": "stdout",
          "text": [
            "Model: \"model_1\"\n",
            "_________________________________________________________________\n",
            " Layer (type)                Output Shape              Param #   \n",
            "=================================================================\n",
            " input_1 (InputLayer)        [(None, 784)]             0         \n",
            "                                                                 \n",
            " dense (Dense)               (None, 32)                25120     \n",
            "                                                                 \n",
            " dense_1 (Dense)             (None, 784)               25872     \n",
            "                                                                 \n",
            "=================================================================\n",
            "Total params: 50,992\n",
            "Trainable params: 50,992\n",
            "Non-trainable params: 0\n",
            "_________________________________________________________________\n"
          ]
        }
      ]
    },
    {
      "cell_type": "code",
      "source": [
        "model.compile(optimizer='adadelta', loss='binary_crossentropy')"
      ],
      "metadata": {
        "id": "KuukvGheiac7"
      },
      "execution_count": 17,
      "outputs": []
    },
    {
      "cell_type": "code",
      "source": [
        "model.fit(x_train, x_train)\n",
        "model.fit(x_train, x_train, epochs=200, batch_size=256, shuffle=True, validation_data=(x_test, x_test))"
      ],
      "metadata": {
        "colab": {
          "base_uri": "https://localhost:8080/"
        },
        "id": "uzlSNifjik7N",
        "outputId": "4af6d52b-826e-4ad3-c71b-eba6bb5af380"
      },
      "execution_count": 27,
      "outputs": [
        {
          "output_type": "stream",
          "name": "stdout",
          "text": [
            "1875/1875 [==============================] - 4s 2ms/step - loss: 0.4981\n",
            "Epoch 1/200\n",
            "235/235 [==============================] - 2s 8ms/step - loss: 0.4847 - val_loss: 0.4810\n",
            "Epoch 2/200\n",
            "235/235 [==============================] - 2s 8ms/step - loss: 0.4818 - val_loss: 0.4780\n",
            "Epoch 3/200\n",
            "235/235 [==============================] - 2s 7ms/step - loss: 0.4788 - val_loss: 0.4750\n",
            "Epoch 4/200\n",
            "235/235 [==============================] - 2s 8ms/step - loss: 0.4759 - val_loss: 0.4720\n",
            "Epoch 5/200\n",
            "235/235 [==============================] - 2s 8ms/step - loss: 0.4729 - val_loss: 0.4690\n",
            "Epoch 6/200\n",
            "235/235 [==============================] - 2s 8ms/step - loss: 0.4699 - val_loss: 0.4660\n",
            "Epoch 7/200\n",
            "235/235 [==============================] - 2s 8ms/step - loss: 0.4669 - val_loss: 0.4631\n",
            "Epoch 8/200\n",
            "235/235 [==============================] - 2s 8ms/step - loss: 0.4640 - val_loss: 0.4601\n",
            "Epoch 9/200\n",
            "235/235 [==============================] - 2s 8ms/step - loss: 0.4610 - val_loss: 0.4571\n",
            "Epoch 10/200\n",
            "235/235 [==============================] - 2s 8ms/step - loss: 0.4581 - val_loss: 0.4542\n",
            "Epoch 11/200\n",
            "235/235 [==============================] - 2s 8ms/step - loss: 0.4552 - val_loss: 0.4513\n",
            "Epoch 12/200\n",
            "235/235 [==============================] - 2s 8ms/step - loss: 0.4523 - val_loss: 0.4484\n",
            "Epoch 13/200\n",
            "235/235 [==============================] - 2s 8ms/step - loss: 0.4494 - val_loss: 0.4455\n",
            "Epoch 14/200\n",
            "235/235 [==============================] - 2s 8ms/step - loss: 0.4466 - val_loss: 0.4427\n",
            "Epoch 15/200\n",
            "235/235 [==============================] - 2s 8ms/step - loss: 0.4437 - val_loss: 0.4398\n",
            "Epoch 16/200\n",
            "235/235 [==============================] - 2s 8ms/step - loss: 0.4409 - val_loss: 0.4370\n",
            "Epoch 17/200\n",
            "235/235 [==============================] - 2s 8ms/step - loss: 0.4381 - val_loss: 0.4343\n",
            "Epoch 18/200\n",
            "235/235 [==============================] - 2s 8ms/step - loss: 0.4354 - val_loss: 0.4315\n",
            "Epoch 19/200\n",
            "235/235 [==============================] - 2s 8ms/step - loss: 0.4327 - val_loss: 0.4288\n",
            "Epoch 20/200\n",
            "235/235 [==============================] - 2s 8ms/step - loss: 0.4300 - val_loss: 0.4261\n",
            "Epoch 21/200\n",
            "235/235 [==============================] - 2s 8ms/step - loss: 0.4273 - val_loss: 0.4235\n",
            "Epoch 22/200\n",
            "235/235 [==============================] - 2s 8ms/step - loss: 0.4247 - val_loss: 0.4209\n",
            "Epoch 23/200\n",
            "235/235 [==============================] - 2s 8ms/step - loss: 0.4221 - val_loss: 0.4183\n",
            "Epoch 24/200\n",
            "235/235 [==============================] - 2s 8ms/step - loss: 0.4196 - val_loss: 0.4158\n",
            "Epoch 25/200\n",
            "235/235 [==============================] - 2s 8ms/step - loss: 0.4171 - val_loss: 0.4133\n",
            "Epoch 26/200\n",
            "235/235 [==============================] - 2s 8ms/step - loss: 0.4146 - val_loss: 0.4108\n",
            "Epoch 27/200\n",
            "235/235 [==============================] - 2s 8ms/step - loss: 0.4121 - val_loss: 0.4084\n",
            "Epoch 28/200\n",
            "235/235 [==============================] - 2s 8ms/step - loss: 0.4097 - val_loss: 0.4060\n",
            "Epoch 29/200\n",
            "235/235 [==============================] - 2s 8ms/step - loss: 0.4073 - val_loss: 0.4036\n",
            "Epoch 30/200\n",
            "235/235 [==============================] - 2s 8ms/step - loss: 0.4050 - val_loss: 0.4013\n",
            "Epoch 31/200\n",
            "235/235 [==============================] - 2s 8ms/step - loss: 0.4027 - val_loss: 0.3990\n",
            "Epoch 32/200\n",
            "235/235 [==============================] - 2s 8ms/step - loss: 0.4004 - val_loss: 0.3968\n",
            "Epoch 33/200\n",
            "235/235 [==============================] - 2s 8ms/step - loss: 0.3982 - val_loss: 0.3946\n",
            "Epoch 34/200\n",
            "235/235 [==============================] - 2s 8ms/step - loss: 0.3960 - val_loss: 0.3924\n",
            "Epoch 35/200\n",
            "235/235 [==============================] - 2s 7ms/step - loss: 0.3938 - val_loss: 0.3903\n",
            "Epoch 36/200\n",
            "235/235 [==============================] - 2s 8ms/step - loss: 0.3917 - val_loss: 0.3882\n",
            "Epoch 37/200\n",
            "235/235 [==============================] - 2s 9ms/step - loss: 0.3896 - val_loss: 0.3861\n",
            "Epoch 38/200\n",
            "235/235 [==============================] - 2s 10ms/step - loss: 0.3876 - val_loss: 0.3841\n",
            "Epoch 39/200\n",
            "235/235 [==============================] - 2s 8ms/step - loss: 0.3856 - val_loss: 0.3821\n",
            "Epoch 40/200\n",
            "235/235 [==============================] - 2s 8ms/step - loss: 0.3836 - val_loss: 0.3802\n",
            "Epoch 41/200\n",
            "235/235 [==============================] - 2s 8ms/step - loss: 0.3817 - val_loss: 0.3783\n",
            "Epoch 42/200\n",
            "235/235 [==============================] - 2s 8ms/step - loss: 0.3798 - val_loss: 0.3764\n",
            "Epoch 43/200\n",
            "235/235 [==============================] - 2s 8ms/step - loss: 0.3779 - val_loss: 0.3746\n",
            "Epoch 44/200\n",
            "235/235 [==============================] - 2s 8ms/step - loss: 0.3761 - val_loss: 0.3728\n",
            "Epoch 45/200\n",
            "235/235 [==============================] - 2s 8ms/step - loss: 0.3743 - val_loss: 0.3710\n",
            "Epoch 46/200\n",
            "235/235 [==============================] - 2s 8ms/step - loss: 0.3726 - val_loss: 0.3693\n",
            "Epoch 47/200\n",
            "235/235 [==============================] - 2s 8ms/step - loss: 0.3709 - val_loss: 0.3676\n",
            "Epoch 48/200\n",
            "235/235 [==============================] - 2s 8ms/step - loss: 0.3692 - val_loss: 0.3659\n",
            "Epoch 49/200\n",
            "235/235 [==============================] - 2s 8ms/step - loss: 0.3675 - val_loss: 0.3643\n",
            "Epoch 50/200\n",
            "235/235 [==============================] - 2s 8ms/step - loss: 0.3659 - val_loss: 0.3627\n",
            "Epoch 51/200\n",
            "235/235 [==============================] - 2s 8ms/step - loss: 0.3643 - val_loss: 0.3612\n",
            "Epoch 52/200\n",
            "235/235 [==============================] - 2s 8ms/step - loss: 0.3628 - val_loss: 0.3596\n",
            "Epoch 53/200\n",
            "235/235 [==============================] - 2s 8ms/step - loss: 0.3612 - val_loss: 0.3581\n",
            "Epoch 54/200\n",
            "235/235 [==============================] - 2s 8ms/step - loss: 0.3597 - val_loss: 0.3567\n",
            "Epoch 55/200\n",
            "235/235 [==============================] - 2s 8ms/step - loss: 0.3583 - val_loss: 0.3552\n",
            "Epoch 56/200\n",
            "235/235 [==============================] - 2s 8ms/step - loss: 0.3569 - val_loss: 0.3538\n",
            "Epoch 57/200\n",
            "235/235 [==============================] - 2s 8ms/step - loss: 0.3555 - val_loss: 0.3525\n",
            "Epoch 58/200\n",
            "235/235 [==============================] - 2s 8ms/step - loss: 0.3541 - val_loss: 0.3511\n",
            "Epoch 59/200\n",
            "235/235 [==============================] - 2s 8ms/step - loss: 0.3527 - val_loss: 0.3498\n",
            "Epoch 60/200\n",
            "235/235 [==============================] - 2s 8ms/step - loss: 0.3514 - val_loss: 0.3485\n",
            "Epoch 61/200\n",
            "235/235 [==============================] - 2s 8ms/step - loss: 0.3501 - val_loss: 0.3473\n",
            "Epoch 62/200\n",
            "235/235 [==============================] - 2s 8ms/step - loss: 0.3489 - val_loss: 0.3460\n",
            "Epoch 63/200\n",
            "235/235 [==============================] - 2s 8ms/step - loss: 0.3477 - val_loss: 0.3448\n",
            "Epoch 64/200\n",
            "235/235 [==============================] - 2s 8ms/step - loss: 0.3464 - val_loss: 0.3436\n",
            "Epoch 65/200\n",
            "235/235 [==============================] - 2s 8ms/step - loss: 0.3453 - val_loss: 0.3425\n",
            "Epoch 66/200\n",
            "235/235 [==============================] - 2s 8ms/step - loss: 0.3441 - val_loss: 0.3414\n",
            "Epoch 67/200\n",
            "235/235 [==============================] - 2s 8ms/step - loss: 0.3430 - val_loss: 0.3403\n",
            "Epoch 68/200\n",
            "235/235 [==============================] - 2s 8ms/step - loss: 0.3419 - val_loss: 0.3392\n",
            "Epoch 69/200\n",
            "235/235 [==============================] - 2s 8ms/step - loss: 0.3408 - val_loss: 0.3381\n",
            "Epoch 70/200\n",
            "235/235 [==============================] - 2s 8ms/step - loss: 0.3397 - val_loss: 0.3371\n",
            "Epoch 71/200\n",
            "235/235 [==============================] - 2s 8ms/step - loss: 0.3387 - val_loss: 0.3361\n",
            "Epoch 72/200\n",
            "235/235 [==============================] - 2s 8ms/step - loss: 0.3377 - val_loss: 0.3351\n",
            "Epoch 73/200\n",
            "235/235 [==============================] - 2s 9ms/step - loss: 0.3367 - val_loss: 0.3341\n",
            "Epoch 74/200\n",
            "235/235 [==============================] - 2s 9ms/step - loss: 0.3357 - val_loss: 0.3332\n",
            "Epoch 75/200\n",
            "235/235 [==============================] - 2s 9ms/step - loss: 0.3348 - val_loss: 0.3322\n",
            "Epoch 76/200\n",
            "235/235 [==============================] - 2s 9ms/step - loss: 0.3338 - val_loss: 0.3313\n",
            "Epoch 77/200\n",
            "235/235 [==============================] - 2s 8ms/step - loss: 0.3329 - val_loss: 0.3304\n",
            "Epoch 78/200\n",
            "235/235 [==============================] - 2s 9ms/step - loss: 0.3320 - val_loss: 0.3296\n",
            "Epoch 79/200\n",
            "235/235 [==============================] - 2s 9ms/step - loss: 0.3312 - val_loss: 0.3287\n",
            "Epoch 80/200\n",
            "235/235 [==============================] - 2s 9ms/step - loss: 0.3303 - val_loss: 0.3279\n",
            "Epoch 81/200\n",
            "235/235 [==============================] - 2s 9ms/step - loss: 0.3295 - val_loss: 0.3271\n",
            "Epoch 82/200\n",
            "235/235 [==============================] - 2s 9ms/step - loss: 0.3287 - val_loss: 0.3263\n",
            "Epoch 83/200\n",
            "235/235 [==============================] - 2s 9ms/step - loss: 0.3279 - val_loss: 0.3255\n",
            "Epoch 84/200\n",
            "235/235 [==============================] - 2s 9ms/step - loss: 0.3271 - val_loss: 0.3247\n",
            "Epoch 85/200\n",
            "235/235 [==============================] - 2s 9ms/step - loss: 0.3263 - val_loss: 0.3240\n",
            "Epoch 86/200\n",
            "235/235 [==============================] - 2s 9ms/step - loss: 0.3256 - val_loss: 0.3233\n",
            "Epoch 87/200\n",
            "235/235 [==============================] - 2s 9ms/step - loss: 0.3248 - val_loss: 0.3225\n",
            "Epoch 88/200\n",
            "235/235 [==============================] - 2s 9ms/step - loss: 0.3241 - val_loss: 0.3218\n",
            "Epoch 89/200\n",
            "235/235 [==============================] - 2s 9ms/step - loss: 0.3234 - val_loss: 0.3212\n",
            "Epoch 90/200\n",
            "235/235 [==============================] - 2s 9ms/step - loss: 0.3227 - val_loss: 0.3205\n",
            "Epoch 91/200\n",
            "235/235 [==============================] - 2s 10ms/step - loss: 0.3220 - val_loss: 0.3198\n",
            "Epoch 92/200\n",
            "235/235 [==============================] - 2s 9ms/step - loss: 0.3214 - val_loss: 0.3192\n",
            "Epoch 93/200\n",
            "235/235 [==============================] - 2s 9ms/step - loss: 0.3207 - val_loss: 0.3185\n",
            "Epoch 94/200\n",
            "235/235 [==============================] - 2s 9ms/step - loss: 0.3201 - val_loss: 0.3179\n",
            "Epoch 95/200\n",
            "235/235 [==============================] - 2s 9ms/step - loss: 0.3195 - val_loss: 0.3173\n",
            "Epoch 96/200\n",
            "235/235 [==============================] - 2s 9ms/step - loss: 0.3189 - val_loss: 0.3167\n",
            "Epoch 97/200\n",
            "235/235 [==============================] - 2s 9ms/step - loss: 0.3183 - val_loss: 0.3162\n",
            "Epoch 98/200\n",
            "235/235 [==============================] - 2s 9ms/step - loss: 0.3177 - val_loss: 0.3156\n",
            "Epoch 99/200\n",
            "235/235 [==============================] - 2s 10ms/step - loss: 0.3171 - val_loss: 0.3150\n",
            "Epoch 100/200\n",
            "235/235 [==============================] - 3s 11ms/step - loss: 0.3165 - val_loss: 0.3145\n",
            "Epoch 101/200\n",
            "235/235 [==============================] - 2s 9ms/step - loss: 0.3160 - val_loss: 0.3139\n",
            "Epoch 102/200\n",
            "235/235 [==============================] - 2s 9ms/step - loss: 0.3155 - val_loss: 0.3134\n",
            "Epoch 103/200\n",
            "235/235 [==============================] - 2s 9ms/step - loss: 0.3149 - val_loss: 0.3129\n",
            "Epoch 104/200\n",
            "235/235 [==============================] - 2s 9ms/step - loss: 0.3144 - val_loss: 0.3124\n",
            "Epoch 105/200\n",
            "235/235 [==============================] - 2s 9ms/step - loss: 0.3139 - val_loss: 0.3119\n",
            "Epoch 106/200\n",
            "235/235 [==============================] - 2s 9ms/step - loss: 0.3134 - val_loss: 0.3114\n",
            "Epoch 107/200\n",
            "235/235 [==============================] - 2s 9ms/step - loss: 0.3129 - val_loss: 0.3110\n",
            "Epoch 108/200\n",
            "235/235 [==============================] - 2s 9ms/step - loss: 0.3124 - val_loss: 0.3105\n",
            "Epoch 109/200\n",
            "235/235 [==============================] - 2s 9ms/step - loss: 0.3120 - val_loss: 0.3100\n",
            "Epoch 110/200\n",
            "235/235 [==============================] - 2s 9ms/step - loss: 0.3115 - val_loss: 0.3096\n",
            "Epoch 111/200\n",
            "235/235 [==============================] - 2s 9ms/step - loss: 0.3110 - val_loss: 0.3091\n",
            "Epoch 112/200\n",
            "235/235 [==============================] - 2s 9ms/step - loss: 0.3106 - val_loss: 0.3087\n",
            "Epoch 113/200\n",
            "235/235 [==============================] - 2s 9ms/step - loss: 0.3102 - val_loss: 0.3083\n",
            "Epoch 114/200\n",
            "235/235 [==============================] - 2s 8ms/step - loss: 0.3097 - val_loss: 0.3079\n",
            "Epoch 115/200\n",
            "235/235 [==============================] - 2s 9ms/step - loss: 0.3093 - val_loss: 0.3075\n",
            "Epoch 116/200\n",
            "235/235 [==============================] - 2s 9ms/step - loss: 0.3089 - val_loss: 0.3071\n",
            "Epoch 117/200\n",
            "235/235 [==============================] - 2s 9ms/step - loss: 0.3085 - val_loss: 0.3067\n",
            "Epoch 118/200\n",
            "235/235 [==============================] - 2s 10ms/step - loss: 0.3081 - val_loss: 0.3063\n",
            "Epoch 119/200\n",
            "235/235 [==============================] - 2s 9ms/step - loss: 0.3077 - val_loss: 0.3059\n",
            "Epoch 120/200\n",
            "235/235 [==============================] - 2s 9ms/step - loss: 0.3073 - val_loss: 0.3055\n",
            "Epoch 121/200\n",
            "235/235 [==============================] - 2s 9ms/step - loss: 0.3070 - val_loss: 0.3052\n",
            "Epoch 122/200\n",
            "235/235 [==============================] - 2s 9ms/step - loss: 0.3066 - val_loss: 0.3048\n",
            "Epoch 123/200\n",
            "235/235 [==============================] - 2s 9ms/step - loss: 0.3062 - val_loss: 0.3045\n",
            "Epoch 124/200\n",
            "235/235 [==============================] - 2s 9ms/step - loss: 0.3059 - val_loss: 0.3041\n",
            "Epoch 125/200\n",
            "235/235 [==============================] - 2s 9ms/step - loss: 0.3055 - val_loss: 0.3038\n",
            "Epoch 126/200\n",
            "235/235 [==============================] - 2s 9ms/step - loss: 0.3052 - val_loss: 0.3035\n",
            "Epoch 127/200\n",
            "235/235 [==============================] - 2s 9ms/step - loss: 0.3049 - val_loss: 0.3031\n",
            "Epoch 128/200\n",
            "235/235 [==============================] - 2s 9ms/step - loss: 0.3045 - val_loss: 0.3028\n",
            "Epoch 129/200\n",
            "235/235 [==============================] - 2s 9ms/step - loss: 0.3042 - val_loss: 0.3025\n",
            "Epoch 130/200\n",
            "235/235 [==============================] - 2s 9ms/step - loss: 0.3039 - val_loss: 0.3022\n",
            "Epoch 131/200\n",
            "235/235 [==============================] - 2s 9ms/step - loss: 0.3036 - val_loss: 0.3019\n",
            "Epoch 132/200\n",
            "235/235 [==============================] - 2s 9ms/step - loss: 0.3033 - val_loss: 0.3016\n",
            "Epoch 133/200\n",
            "235/235 [==============================] - 2s 9ms/step - loss: 0.3030 - val_loss: 0.3013\n",
            "Epoch 134/200\n",
            "235/235 [==============================] - 2s 9ms/step - loss: 0.3027 - val_loss: 0.3010\n",
            "Epoch 135/200\n",
            "235/235 [==============================] - 2s 8ms/step - loss: 0.3024 - val_loss: 0.3007\n",
            "Epoch 136/200\n",
            "235/235 [==============================] - 2s 9ms/step - loss: 0.3021 - val_loss: 0.3004\n",
            "Epoch 137/200\n",
            "235/235 [==============================] - 2s 9ms/step - loss: 0.3018 - val_loss: 0.3002\n",
            "Epoch 138/200\n",
            "235/235 [==============================] - 2s 9ms/step - loss: 0.3015 - val_loss: 0.2999\n",
            "Epoch 139/200\n",
            "235/235 [==============================] - 2s 9ms/step - loss: 0.3012 - val_loss: 0.2996\n",
            "Epoch 140/200\n",
            "235/235 [==============================] - 2s 8ms/step - loss: 0.3010 - val_loss: 0.2994\n",
            "Epoch 141/200\n",
            "235/235 [==============================] - 2s 8ms/step - loss: 0.3007 - val_loss: 0.2991\n",
            "Epoch 142/200\n",
            "235/235 [==============================] - 2s 10ms/step - loss: 0.3004 - val_loss: 0.2989\n",
            "Epoch 143/200\n",
            "235/235 [==============================] - 2s 9ms/step - loss: 0.3002 - val_loss: 0.2986\n",
            "Epoch 144/200\n",
            "235/235 [==============================] - 2s 9ms/step - loss: 0.2999 - val_loss: 0.2984\n",
            "Epoch 145/200\n",
            "235/235 [==============================] - 2s 9ms/step - loss: 0.2997 - val_loss: 0.2981\n",
            "Epoch 146/200\n",
            "235/235 [==============================] - 2s 9ms/step - loss: 0.2994 - val_loss: 0.2979\n",
            "Epoch 147/200\n",
            "235/235 [==============================] - 2s 9ms/step - loss: 0.2992 - val_loss: 0.2977\n",
            "Epoch 148/200\n",
            "235/235 [==============================] - 2s 9ms/step - loss: 0.2990 - val_loss: 0.2974\n",
            "Epoch 149/200\n",
            "235/235 [==============================] - 2s 9ms/step - loss: 0.2987 - val_loss: 0.2972\n",
            "Epoch 150/200\n",
            "235/235 [==============================] - 2s 8ms/step - loss: 0.2985 - val_loss: 0.2970\n",
            "Epoch 151/200\n",
            "235/235 [==============================] - 2s 8ms/step - loss: 0.2983 - val_loss: 0.2968\n",
            "Epoch 152/200\n",
            "235/235 [==============================] - 2s 8ms/step - loss: 0.2981 - val_loss: 0.2965\n",
            "Epoch 153/200\n",
            "235/235 [==============================] - 2s 8ms/step - loss: 0.2978 - val_loss: 0.2963\n",
            "Epoch 154/200\n",
            "235/235 [==============================] - 2s 8ms/step - loss: 0.2976 - val_loss: 0.2961\n",
            "Epoch 155/200\n",
            "235/235 [==============================] - 3s 11ms/step - loss: 0.2974 - val_loss: 0.2959\n",
            "Epoch 156/200\n",
            "235/235 [==============================] - 2s 8ms/step - loss: 0.2972 - val_loss: 0.2957\n",
            "Epoch 157/200\n",
            "235/235 [==============================] - 2s 8ms/step - loss: 0.2970 - val_loss: 0.2955\n",
            "Epoch 158/200\n",
            "235/235 [==============================] - 2s 8ms/step - loss: 0.2968 - val_loss: 0.2953\n",
            "Epoch 159/200\n",
            "235/235 [==============================] - 2s 8ms/step - loss: 0.2966 - val_loss: 0.2951\n",
            "Epoch 160/200\n",
            "235/235 [==============================] - 2s 8ms/step - loss: 0.2964 - val_loss: 0.2949\n",
            "Epoch 161/200\n",
            "235/235 [==============================] - 2s 8ms/step - loss: 0.2962 - val_loss: 0.2947\n",
            "Epoch 162/200\n",
            "235/235 [==============================] - 2s 9ms/step - loss: 0.2960 - val_loss: 0.2945\n",
            "Epoch 163/200\n",
            "235/235 [==============================] - 2s 8ms/step - loss: 0.2958 - val_loss: 0.2943\n",
            "Epoch 164/200\n",
            "235/235 [==============================] - 2s 8ms/step - loss: 0.2956 - val_loss: 0.2942\n",
            "Epoch 165/200\n",
            "235/235 [==============================] - 2s 9ms/step - loss: 0.2954 - val_loss: 0.2940\n",
            "Epoch 166/200\n",
            "235/235 [==============================] - 2s 9ms/step - loss: 0.2952 - val_loss: 0.2938\n",
            "Epoch 167/200\n",
            "235/235 [==============================] - 2s 9ms/step - loss: 0.2951 - val_loss: 0.2936\n",
            "Epoch 168/200\n",
            "235/235 [==============================] - 2s 9ms/step - loss: 0.2949 - val_loss: 0.2935\n",
            "Epoch 169/200\n",
            "235/235 [==============================] - 2s 9ms/step - loss: 0.2947 - val_loss: 0.2933\n",
            "Epoch 170/200\n",
            "235/235 [==============================] - 2s 9ms/step - loss: 0.2945 - val_loss: 0.2931\n",
            "Epoch 171/200\n",
            "235/235 [==============================] - 2s 9ms/step - loss: 0.2944 - val_loss: 0.2930\n",
            "Epoch 172/200\n",
            "235/235 [==============================] - 2s 9ms/step - loss: 0.2942 - val_loss: 0.2928\n",
            "Epoch 173/200\n",
            "235/235 [==============================] - 2s 9ms/step - loss: 0.2940 - val_loss: 0.2926\n",
            "Epoch 174/200\n",
            "235/235 [==============================] - 2s 9ms/step - loss: 0.2939 - val_loss: 0.2925\n",
            "Epoch 175/200\n",
            "235/235 [==============================] - 2s 9ms/step - loss: 0.2937 - val_loss: 0.2923\n",
            "Epoch 176/200\n",
            "235/235 [==============================] - 2s 9ms/step - loss: 0.2936 - val_loss: 0.2922\n",
            "Epoch 177/200\n",
            "235/235 [==============================] - 2s 8ms/step - loss: 0.2934 - val_loss: 0.2920\n",
            "Epoch 178/200\n",
            "235/235 [==============================] - 2s 9ms/step - loss: 0.2932 - val_loss: 0.2919\n",
            "Epoch 179/200\n",
            "235/235 [==============================] - 2s 9ms/step - loss: 0.2931 - val_loss: 0.2917\n",
            "Epoch 180/200\n",
            "235/235 [==============================] - 2s 9ms/step - loss: 0.2929 - val_loss: 0.2916\n",
            "Epoch 181/200\n",
            "235/235 [==============================] - 2s 9ms/step - loss: 0.2928 - val_loss: 0.2914\n",
            "Epoch 182/200\n",
            "235/235 [==============================] - 2s 9ms/step - loss: 0.2926 - val_loss: 0.2913\n",
            "Epoch 183/200\n",
            "235/235 [==============================] - 2s 9ms/step - loss: 0.2925 - val_loss: 0.2911\n",
            "Epoch 184/200\n",
            "235/235 [==============================] - 2s 9ms/step - loss: 0.2923 - val_loss: 0.2910\n",
            "Epoch 185/200\n",
            "235/235 [==============================] - 2s 9ms/step - loss: 0.2922 - val_loss: 0.2909\n",
            "Epoch 186/200\n",
            "235/235 [==============================] - 2s 9ms/step - loss: 0.2921 - val_loss: 0.2907\n",
            "Epoch 187/200\n",
            "235/235 [==============================] - 2s 9ms/step - loss: 0.2919 - val_loss: 0.2906\n",
            "Epoch 188/200\n",
            "235/235 [==============================] - 2s 9ms/step - loss: 0.2918 - val_loss: 0.2905\n",
            "Epoch 189/200\n",
            "235/235 [==============================] - 2s 9ms/step - loss: 0.2917 - val_loss: 0.2903\n",
            "Epoch 190/200\n",
            "235/235 [==============================] - 2s 8ms/step - loss: 0.2915 - val_loss: 0.2902\n",
            "Epoch 191/200\n",
            "235/235 [==============================] - 2s 9ms/step - loss: 0.2914 - val_loss: 0.2901\n",
            "Epoch 192/200\n",
            "235/235 [==============================] - 2s 9ms/step - loss: 0.2913 - val_loss: 0.2899\n",
            "Epoch 193/200\n",
            "235/235 [==============================] - 2s 8ms/step - loss: 0.2911 - val_loss: 0.2898\n",
            "Epoch 194/200\n",
            "235/235 [==============================] - 2s 9ms/step - loss: 0.2910 - val_loss: 0.2897\n",
            "Epoch 195/200\n",
            "235/235 [==============================] - 2s 9ms/step - loss: 0.2909 - val_loss: 0.2896\n",
            "Epoch 196/200\n",
            "235/235 [==============================] - 2s 9ms/step - loss: 0.2907 - val_loss: 0.2894\n",
            "Epoch 197/200\n",
            "235/235 [==============================] - 2s 8ms/step - loss: 0.2906 - val_loss: 0.2893\n",
            "Epoch 198/200\n",
            "235/235 [==============================] - 2s 8ms/step - loss: 0.2905 - val_loss: 0.2892\n",
            "Epoch 199/200\n",
            "235/235 [==============================] - 2s 9ms/step - loss: 0.2904 - val_loss: 0.2891\n",
            "Epoch 200/200\n",
            "235/235 [==============================] - 2s 9ms/step - loss: 0.2903 - val_loss: 0.2890\n"
          ]
        },
        {
          "output_type": "execute_result",
          "data": {
            "text/plain": [
              "<keras.callbacks.History at 0x7f41d90a5ed0>"
            ]
          },
          "metadata": {},
          "execution_count": 27
        }
      ]
    },
    {
      "cell_type": "code",
      "source": [
        "reconstructed_images = model.predict(x_test)"
      ],
      "metadata": {
        "colab": {
          "base_uri": "https://localhost:8080/"
        },
        "id": "dAlHcEbBiwuF",
        "outputId": "2b2b2288-c384-47fb-ba6f-eb1be28f24e0"
      },
      "execution_count": 28,
      "outputs": [
        {
          "output_type": "stream",
          "name": "stdout",
          "text": [
            "313/313 [==============================] - 0s 960us/step\n"
          ]
        }
      ]
    },
    {
      "cell_type": "code",
      "source": [
        "n=7\n",
        "plt.figure(figsize=(20, 4))\n",
        "for i in range(n):\n",
        "  ax = plt.subplot(1, n, i+1)\n",
        "  plt.imshow(x_test[i].reshape(28, 28))\n",
        "  plt.gray()\n",
        "  ax.get_xaxis().set_visible(False)\n",
        "  ax.get_yaxis().set_visible(False)\n",
        "plt.show()"
      ],
      "metadata": {
        "colab": {
          "base_uri": "https://localhost:8080/",
          "height": 169
        },
        "id": "A9iufLxsjMd5",
        "outputId": "1511b626-6544-4218-91c3-c49abe6a8a99"
      },
      "execution_count": 21,
      "outputs": [
        {
          "output_type": "display_data",
          "data": {
            "text/plain": [
              "<Figure size 1440x288 with 7 Axes>"
            ],
            "image/png": "[encoded data removed]"
          },
          "metadata": {
            "needs_background": "light"
          }
        }
      ]
    },
    {
      "cell_type": "code",
      "source": [
        "n=7\n",
        "plt.figure(figsize=(20, 4)) \n",
        "for i in range(n):\n",
        "  ax = plt.subplot(2, n, i + n + 1)\n",
        "  plt.imshow(reconstructed_images[i].reshape(28, 28))\n",
        "  plt.gray()\n",
        "  ax.get_xaxis().set_visible(False)\n",
        "  ax.get_yaxis().set_visible(False)\n",
        "plt.show()"
      ],
      "metadata": {
        "colab": {
          "base_uri": "https://localhost:8080/",
          "height": 132
        },
        "id": "tavXJ_h9jizx",
        "outputId": "27e2df43-dd03-4b25-d1b6-3837b42c6a84"
      },
      "execution_count": 29,
      "outputs": [
        {
          "output_type": "display_data",
          "data": {
            "text/plain": [
              "<Figure size 1440x288 with 7 Axes>"
            ],
            "image/png": "[encoded data removed]"
          },
          "metadata": {
            "needs_background": "light"
          }
        }
      ]
    },
    {
      "cell_type": "code",
      "source": [],
      "metadata": {
        "id": "vT7nDAi6j6ox"
      },
      "execution_count": null,
      "outputs": []
    }
  ]
}