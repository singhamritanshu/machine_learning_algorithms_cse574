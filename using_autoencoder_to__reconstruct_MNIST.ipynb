{
  "nbformat": 4,
  "nbformat_minor": 0,
  "metadata": {
    "colab": {
      "provenance": [],
      "authorship_tag": "ABX9TyM3yFR0hAw4svxeDySiJp2i",
      "include_colab_link": true
    },
    "kernelspec": {
      "name": "python3",
      "display_name": "Python 3"
    },
    "language_info": {
      "name": "python"
    }
  },
  "cells": [
    {
      "cell_type": "markdown",
      "metadata": {
        "id": "view-in-github",
        "colab_type": "text"
      },
      "source": [
        "<a href=\"https://colab.research.google.com/github/singhamritanshu/machine_learning_algorithms_cse574/blob/main/using_autoencoder_to__reconstruct_MNIST.ipynb\" target=\"_parent\"><img src=\"https://colab.research.google.com/assets/colab-badge.svg\" alt=\"Open In Colab\"/></a>"
      ]
    },
    {
      "cell_type": "code",
      "execution_count": 8,
      "metadata": {
        "id": "F8pQmFDDg30O"
      },
      "outputs": [],
      "source": [
        "import warnings \n",
        "warnings.filterwarnings('ignore')\n",
        "import numpy as np \n",
        "import tensorflow as tf\n",
        "from tensorflow.keras.models import Model \n",
        "from tensorflow.keras.layers import Input, Dense \n",
        "#tf.logging.set_verbosity(tf.logging.ERROR)\n",
        "#plotting\n",
        "import matplotlib.pyplot as plt \n",
        "%matplotlib inline\n",
        "#dataset\n",
        "from tensorflow.keras.datasets import mnist"
      ]
    },
    {
      "cell_type": "code",
      "source": [
        "(x_train, _), (x_test, _) = mnist.load_data()\n",
        "x_train = x_train.astype('float32') / 255\n",
        "x_test = x_test.astype('float32') / 255"
      ],
      "metadata": {
        "colab": {
          "base_uri": "https://localhost:8080/"
        },
        "id": "jr1VDFHBg6MQ",
        "outputId": "f8e544d5-0048-4c18-d290-25abcb85b094"
      },
      "execution_count": 9,
      "outputs": [
        {
          "output_type": "stream",
          "name": "stdout",
          "text": [
            "Downloading data from https://storage.googleapis.com/tensorflow/tf-keras-datasets/mnist.npz\n",
            "11490434/11490434 [==============================] - 0s 0us/step\n"
          ]
        }
      ]
    },
    {
      "cell_type": "code",
      "source": [
        "print(x_train.shape, x_test.shape)"
      ],
      "metadata": {
        "colab": {
          "base_uri": "https://localhost:8080/"
        },
        "id": "QyMLwApoiBaY",
        "outputId": "3e8d9493-b3f9-4532-b72d-2ffe9300af99"
      },
      "execution_count": 10,
      "outputs": [
        {
          "output_type": "stream",
          "name": "stdout",
          "text": [
            "(60000, 28, 28) (10000, 28, 28)\n"
          ]
        }
      ]
    },
    {
      "cell_type": "code",
      "source": [
        "x_train = x_train.reshape((len(x_train), np.prod(x_train.shape[1:]))) \n",
        "x_test = x_test.reshape((len(x_test), np.prod(x_test.shape[1:])))"
      ],
      "metadata": {
        "id": "a5LtVQ09iEHX"
      },
      "execution_count": 11,
      "outputs": []
    },
    {
      "cell_type": "code",
      "source": [
        "print(x_train.shape, x_test.shape)"
      ],
      "metadata": {
        "colab": {
          "base_uri": "https://localhost:8080/"
        },
        "id": "aXHtXObqiIf1",
        "outputId": "1e1ab826-d6c3-4185-f991-98cc960d7348"
      },
      "execution_count": 12,
      "outputs": [
        {
          "output_type": "stream",
          "name": "stdout",
          "text": [
            "(60000, 784) (10000, 784)\n"
          ]
        }
      ]
    },
    {
      "cell_type": "code",
      "source": [
        "encoding_dim = 32\n",
        "input_image = Input(shape=(784,))\n",
        "encoder = Dense(encoding_dim, activation='relu')(input_image)"
      ],
      "metadata": {
        "id": "a_2U8RWAiL_T"
      },
      "execution_count": 13,
      "outputs": []
    },
    {
      "cell_type": "code",
      "source": [
        "decoder = Dense(784, activation='sigmoid')(encoder)"
      ],
      "metadata": {
        "id": "zObp_53fiS8t"
      },
      "execution_count": 14,
      "outputs": []
    },
    {
      "cell_type": "code",
      "source": [
        "model = Model(inputs=input_image, outputs=decoder)\n",
        "model.summary()"
      ],
      "metadata": {
        "colab": {
          "base_uri": "https://localhost:8080/"
        },
        "id": "RvFhwWk0iWIw",
        "outputId": "6a9cbbb7-fed0-4511-eb78-84e27a661894"
      },
      "execution_count": 16,
      "outputs": [
        {
          "output_type": "stream",
          "name": "stdout",
          "text": [
            "Model: \"model_1\"\n",
            "_________________________________________________________________\n",
            " Layer (type)                Output Shape              Param #   \n",
            "=================================================================\n",
            " input_1 (InputLayer)        [(None, 784)]             0         \n",
            "                                                                 \n",
            " dense (Dense)               (None, 32)                25120     \n",
            "                                                                 \n",
            " dense_1 (Dense)             (None, 784)               25872     \n",
            "                                                                 \n",
            "=================================================================\n",
            "Total params: 50,992\n",
            "Trainable params: 50,992\n",
            "Non-trainable params: 0\n",
            "_________________________________________________________________\n"
          ]
        }
      ]
    },
    {
      "cell_type": "code",
      "source": [
        "model.compile(optimizer='adadelta', loss='binary_crossentropy')"
      ],
      "metadata": {
        "id": "KuukvGheiac7"
      },
      "execution_count": 17,
      "outputs": []
    },
    {
      "cell_type": "code",
      "source": [
        "model.fit(x_train, x_train)\n",
        "model.fit(x_train, x_train, epochs=50, batch_size=256, shuffle=True, validation_data=(x_test, x_test))"
      ],
      "metadata": {
        "colab": {
          "base_uri": "https://localhost:8080/"
        },
        "id": "uzlSNifjik7N",
        "outputId": "747645ca-22ce-418b-924f-157213f56ee9"
      },
      "execution_count": 19,
      "outputs": [
        {
          "output_type": "stream",
          "name": "stdout",
          "text": [
            "1875/1875 [==============================] - 4s 2ms/step - loss: 0.6937\n",
            "Epoch 1/50\n",
            "235/235 [==============================] - 2s 8ms/step - loss: 0.6930 - val_loss: 0.6929\n",
            "Epoch 2/50\n",
            "235/235 [==============================] - 2s 7ms/step - loss: 0.6928 - val_loss: 0.6927\n",
            "Epoch 3/50\n",
            "235/235 [==============================] - 2s 7ms/step - loss: 0.6927 - val_loss: 0.6926\n",
            "Epoch 4/50\n",
            "235/235 [==============================] - 2s 7ms/step - loss: 0.6925 - val_loss: 0.6924\n",
            "Epoch 5/50\n",
            "235/235 [==============================] - 2s 7ms/step - loss: 0.6924 - val_loss: 0.6922\n",
            "Epoch 6/50\n",
            "235/235 [==============================] - 2s 7ms/step - loss: 0.6922 - val_loss: 0.6921\n",
            "Epoch 7/50\n",
            "235/235 [==============================] - 2s 7ms/step - loss: 0.6920 - val_loss: 0.6919\n",
            "Epoch 8/50\n",
            "235/235 [==============================] - 2s 7ms/step - loss: 0.6919 - val_loss: 0.6918\n",
            "Epoch 9/50\n",
            "235/235 [==============================] - 2s 7ms/step - loss: 0.6917 - val_loss: 0.6916\n",
            "Epoch 10/50\n",
            "235/235 [==============================] - 2s 8ms/step - loss: 0.6916 - val_loss: 0.6914\n",
            "Epoch 11/50\n",
            "235/235 [==============================] - 2s 7ms/step - loss: 0.6914 - val_loss: 0.6913\n",
            "Epoch 12/50\n",
            "235/235 [==============================] - 2s 8ms/step - loss: 0.6912 - val_loss: 0.6911\n",
            "Epoch 13/50\n",
            "235/235 [==============================] - 2s 8ms/step - loss: 0.6911 - val_loss: 0.6910\n",
            "Epoch 14/50\n",
            "235/235 [==============================] - 2s 7ms/step - loss: 0.6909 - val_loss: 0.6908\n",
            "Epoch 15/50\n",
            "235/235 [==============================] - 2s 7ms/step - loss: 0.6907 - val_loss: 0.6906\n",
            "Epoch 16/50\n",
            "235/235 [==============================] - 2s 8ms/step - loss: 0.6906 - val_loss: 0.6905\n",
            "Epoch 17/50\n",
            "235/235 [==============================] - 2s 7ms/step - loss: 0.6904 - val_loss: 0.6903\n",
            "Epoch 18/50\n",
            "235/235 [==============================] - 2s 8ms/step - loss: 0.6902 - val_loss: 0.6901\n",
            "Epoch 19/50\n",
            "235/235 [==============================] - 2s 7ms/step - loss: 0.6901 - val_loss: 0.6899\n",
            "Epoch 20/50\n",
            "235/235 [==============================] - 2s 8ms/step - loss: 0.6899 - val_loss: 0.6898\n",
            "Epoch 21/50\n",
            "235/235 [==============================] - 2s 7ms/step - loss: 0.6897 - val_loss: 0.6896\n",
            "Epoch 22/50\n",
            "235/235 [==============================] - 2s 8ms/step - loss: 0.6895 - val_loss: 0.6894\n",
            "Epoch 23/50\n",
            "235/235 [==============================] - 2s 8ms/step - loss: 0.6894 - val_loss: 0.6892\n",
            "Epoch 24/50\n",
            "235/235 [==============================] - 2s 8ms/step - loss: 0.6892 - val_loss: 0.6890\n",
            "Epoch 25/50\n",
            "235/235 [==============================] - 2s 7ms/step - loss: 0.6890 - val_loss: 0.6888\n",
            "Epoch 26/50\n",
            "235/235 [==============================] - 2s 8ms/step - loss: 0.6888 - val_loss: 0.6886\n",
            "Epoch 27/50\n",
            "235/235 [==============================] - 2s 8ms/step - loss: 0.6886 - val_loss: 0.6885\n",
            "Epoch 28/50\n",
            "235/235 [==============================] - 2s 8ms/step - loss: 0.6884 - val_loss: 0.6883\n",
            "Epoch 29/50\n",
            "235/235 [==============================] - 2s 7ms/step - loss: 0.6882 - val_loss: 0.6880\n",
            "Epoch 30/50\n",
            "235/235 [==============================] - 2s 7ms/step - loss: 0.6880 - val_loss: 0.6878\n",
            "Epoch 31/50\n",
            "235/235 [==============================] - 2s 8ms/step - loss: 0.6878 - val_loss: 0.6876\n",
            "Epoch 32/50\n",
            "235/235 [==============================] - 2s 7ms/step - loss: 0.6876 - val_loss: 0.6874\n",
            "Epoch 33/50\n",
            "235/235 [==============================] - 2s 8ms/step - loss: 0.6874 - val_loss: 0.6872\n",
            "Epoch 34/50\n",
            "235/235 [==============================] - 2s 8ms/step - loss: 0.6871 - val_loss: 0.6870\n",
            "Epoch 35/50\n",
            "235/235 [==============================] - 2s 7ms/step - loss: 0.6869 - val_loss: 0.6867\n",
            "Epoch 36/50\n",
            "235/235 [==============================] - 2s 8ms/step - loss: 0.6867 - val_loss: 0.6865\n",
            "Epoch 37/50\n",
            "235/235 [==============================] - 2s 7ms/step - loss: 0.6865 - val_loss: 0.6863\n",
            "Epoch 38/50\n",
            "235/235 [==============================] - 2s 7ms/step - loss: 0.6862 - val_loss: 0.6860\n",
            "Epoch 39/50\n",
            "235/235 [==============================] - 2s 7ms/step - loss: 0.6860 - val_loss: 0.6858\n",
            "Epoch 40/50\n",
            "235/235 [==============================] - 2s 8ms/step - loss: 0.6857 - val_loss: 0.6855\n",
            "Epoch 41/50\n",
            "235/235 [==============================] - 2s 7ms/step - loss: 0.6855 - val_loss: 0.6853\n",
            "Epoch 42/50\n",
            "235/235 [==============================] - 2s 8ms/step - loss: 0.6852 - val_loss: 0.6850\n",
            "Epoch 43/50\n",
            "235/235 [==============================] - 2s 7ms/step - loss: 0.6849 - val_loss: 0.6847\n",
            "Epoch 44/50\n",
            "235/235 [==============================] - 2s 8ms/step - loss: 0.6847 - val_loss: 0.6844\n",
            "Epoch 45/50\n",
            "235/235 [==============================] - 2s 8ms/step - loss: 0.6844 - val_loss: 0.6841\n",
            "Epoch 46/50\n",
            "235/235 [==============================] - 2s 7ms/step - loss: 0.6841 - val_loss: 0.6839\n",
            "Epoch 47/50\n",
            "235/235 [==============================] - 2s 8ms/step - loss: 0.6838 - val_loss: 0.6836\n",
            "Epoch 48/50\n",
            "235/235 [==============================] - 2s 9ms/step - loss: 0.6835 - val_loss: 0.6832\n",
            "Epoch 49/50\n",
            "235/235 [==============================] - 2s 8ms/step - loss: 0.6832 - val_loss: 0.6829\n",
            "Epoch 50/50\n",
            "235/235 [==============================] - 2s 7ms/step - loss: 0.6829 - val_loss: 0.6826\n"
          ]
        },
        {
          "output_type": "execute_result",
          "data": {
            "text/plain": [
              "<keras.callbacks.History at 0x7f41d58e6210>"
            ]
          },
          "metadata": {},
          "execution_count": 19
        }
      ]
    },
    {
      "cell_type": "code",
      "source": [
        "reconstructed_images = model.predict(x_test)"
      ],
      "metadata": {
        "colab": {
          "base_uri": "https://localhost:8080/"
        },
        "id": "dAlHcEbBiwuF",
        "outputId": "4f588593-b8c9-400f-fe03-89a552db007e"
      },
      "execution_count": 20,
      "outputs": [
        {
          "output_type": "stream",
          "name": "stdout",
          "text": [
            "313/313 [==============================] - 0s 942us/step\n"
          ]
        }
      ]
    },
    {
      "cell_type": "code",
      "source": [
        "n=7\n",
        "plt.figure(figsize=(20, 4))\n",
        "for i in range(n):\n",
        "  ax = plt.subplot(1, n, i+1)\n",
        "  plt.imshow(x_test[i].reshape(28, 28))\n",
        "  plt.gray()\n",
        "  ax.get_xaxis().set_visible(False)\n",
        "  ax.get_yaxis().set_visible(False)\n",
        "plt.show()"
      ],
      "metadata": {
        "colab": {
          "base_uri": "https://localhost:8080/",
          "height": 169
        },
        "id": "A9iufLxsjMd5",
        "outputId": "1511b626-6544-4218-91c3-c49abe6a8a99"
      },
      "execution_count": 21,
      "outputs": [
        {
          "output_type": "display_data",
          "data": {
            "text/plain": [
              "<Figure size 1440x288 with 7 Axes>"
            ],
            "image/png": "[encoded data removed]"
          },
          "metadata": {
            "needs_background": "light"
          }
        }
      ]
    },
    {
      "cell_type": "code",
      "source": [
        "n=7\n",
        "plt.figure(figsize=(20, 4)) \n",
        "for i in range(n):\n",
        "  ax = plt.subplot(2, n, i + n + 1)\n",
        "  plt.imshow(reconstructed_images[i].reshape(28, 28))\n",
        "  plt.gray()\n",
        "  ax.get_xaxis().set_visible(False)\n",
        "  ax.get_yaxis().set_visible(False)\n",
        "plt.show()"
      ],
      "metadata": {
        "colab": {
          "base_uri": "https://localhost:8080/",
          "height": 132
        },
        "id": "tavXJ_h9jizx",
        "outputId": "ef763064-a3c1-4199-8079-870c4f237328"
      },
      "execution_count": 23,
      "outputs": [
        {
          "output_type": "display_data",
          "data": {
            "text/plain": [
              "<Figure size 1440x288 with 7 Axes>"
            ],
            "image/png": "[encoded data removed]"
          },
          "metadata": {
            "needs_background": "light"
          }
        }
      ]
    },
    {
      "cell_type": "code",
      "source": [],
      "metadata": {
        "id": "vT7nDAi6j6ox"
      },
      "execution_count": null,
      "outputs": []
    }
  ]
}